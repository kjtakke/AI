{
 "cells": [
  {
   "cell_type": "markdown",
   "metadata": {},
   "source": [
    "# AI Phrase Identification"
   ]
  },
  {
   "cell_type": "markdown",
   "metadata": {},
   "source": [
    "### Import Packages"
   ]
  },
  {
   "cell_type": "code",
   "execution_count": 14,
   "metadata": {},
   "outputs": [],
   "source": [
    "import json\n",
    "import pandas as pd\n",
    "import pprint #https://docs.python.org/3/library/pprint.html#module-pprint"
   ]
  },
  {
   "cell_type": "markdown",
   "metadata": {},
   "source": [
    "<h3>Variables</h3>"
   ]
  },
  {
   "cell_type": "code",
   "execution_count": 7,
   "metadata": {},
   "outputs": [],
   "source": [
    "file = \"https://raw.githubusercontent.com/kjtakke/AI/main/APC.csv\"\n",
    "trainingSet = \"https://raw.githubusercontent.com/kjtakke/AI/main/trainingSet.csv\"\n",
    "jsonFileName = \"postcodes.json\"\n",
    "indexColumn = \"Suburb Name\"\n",
    "valueColumns = [\"Postcode\",\"State\"]\n",
    "removeValues = [\" HMAS\", \" Barracks\", \" bks\", \" SA\", \" WA\", \" NT\", \" QLD\",\" NSW\", \" VIC\", \" ACT\", \" TAS\"]"
   ]
  },
  {
   "cell_type": "markdown",
   "metadata": {},
   "source": [
    "## Functions"
   ]
  },
  {
   "cell_type": "markdown",
   "metadata": {},
   "source": [
    "### Test AI"
   ]
  },
  {
   "cell_type": "code",
   "execution_count": 15,
   "metadata": {},
   "outputs": [],
   "source": [
    "def testAgainstReferenceFile(file, testColumn, answerColumn, updateReferenceFile = False):\n",
    "    \"\"\"This function tests know values against the AI Reference File\"\"\"\n",
    "    df = pd.read_csv(file, header=0, dtype=str)\n",
    "    print(df.head())\n",
    "    indexDictionary = {}\n",
    "    print(df.count)"
   ]
  },
  {
   "cell_type": "markdown",
   "metadata": {},
   "source": [
    "### Train AI Creating Nueral Patheays"
   ]
  },
  {
   "cell_type": "code",
   "execution_count": 16,
   "metadata": {},
   "outputs": [],
   "source": [
    "def trainAI(trainingFile, referenceFile, updateReferenceFile = False):\n",
    "    \"\"\"This function trains the AI\"\"\"\n",
    "    trainingSet = pd.read_csv(trainingFile, header=0, dtype=str)\n",
    "    print(trainingSet.head())\n",
    "    with open(referenceFile, 'r') as fp:\n",
    "        indexDictionary = json.load(fp)\n",
    "    print(indexDictionary[\"Belconnen Town Centre\"])"
   ]
  },
  {
   "cell_type": "markdown",
   "metadata": {},
   "source": [
    "### Create AI Memory Pathways"
   ]
  },
  {
   "cell_type": "code",
   "execution_count": 10,
   "metadata": {},
   "outputs": [],
   "source": [
    "def createRefenceFile(file, jsonFileName, indexColumn, valueColumns):\n",
    "    \"\"\"This function creates the json dictionary reference file to be used in the AI\n",
    "    indexDictionary[i] = {\n",
    "            \"passed\":[],            #All accepted answers                       [\"passed\"]                  =[\"name1\",\"name2\"]\n",
    "            \"two\": {                #Number of letters\n",
    "                \"first\":[],             #First part of the string               [\"two\"][\"first\"]            =[[\"ab\",0],[\"bc\",0]]\n",
    "                \"mid\":[],               #Middle part of the string              [\"two\"][\"mid\"]\n",
    "                \"end\":[]                #End part of the string                 [\"two\"][\"end\"]\n",
    "            },\n",
    "            \"three\": {\n",
    "                \"first\":[],                                                    #[\"three\"][\"first\"]          =[[\"abc\",0],[\"bcd\",0]]\n",
    "                \"mid\":[],                                                      #[\"three\"][\"mid\"]\n",
    "                \"end\":[]                                                       #[\"three\"][\"end\"]\n",
    "            },\n",
    "            \"four\": {\n",
    "                \"first\":[],                                                    #[\"four\"][\"first\"]           =[[\"abcd\",0],[\"bcde\",0]]\n",
    "                \"mid\":[],                                                      #[\"four\"][\"mid\"]\n",
    "                \"end\":[]                                                       #[\"four\"][\"end\"]\n",
    "            },\n",
    "            \"scores\":{              #Acepted Scores and aggregated values\n",
    "                \"allScores\": [],    #All accepted Scores                        [\"scores\"][\"allScores\"]\n",
    "                \"statistics\": {     #Statistics\n",
    "                    \"min\": 0,           #Min                                    [\"scores\"][\"min\"]\n",
    "                    \"max\": 0,           #Max                                    [\"scores\"][\"max\"]\n",
    "                    \"median\": 0,        #Median                                 [\"scores\"][\"median\"]\n",
    "                    \"average\": 0,       #Average                                [\"scores\"][\"average\"]\n",
    "                    \"stDev\": 0,         #Standard Deviation                      [\"scores\"][\"stDev\"]\n",
    "                    \"sum\": 0            #Sum                                    [\"scores\"][\"sum\"]\n",
    "                },\n",
    "            },\n",
    "            \"values\": []                #csv values to bring accross            [\"values\"] i.e. ['2617', 'ACT']\n",
    "        }\n",
    "    \"\"\"\n",
    "    df = pd.read_csv(file, header=0, dtype=str)\n",
    "    index = df[indexColumn].tolist()\n",
    "\n",
    "    z = 0\n",
    "    indexDictionary = {}\n",
    "    for i in index:\n",
    "        indexValues = []\n",
    "\n",
    "        for key in valueColumns:\n",
    "            lst = df[key].tolist()\n",
    "            indexValues.append(lst[z])\n",
    "\n",
    "        indexDictionary[i] = {\n",
    "            \"passed\":[],\n",
    "            \"two\": {\n",
    "                \"first\":[],\n",
    "                \"mid\":[],\n",
    "                \"end\":[]\n",
    "            },\n",
    "            \"three\": {\n",
    "                \"first\":[],\n",
    "                \"mid\":[],\n",
    "                \"end\":[]\n",
    "            },\n",
    "            \"four\": {\n",
    "                \"first\":[],\n",
    "                \"mid\":[],\n",
    "                \"end\":[]\n",
    "            },\n",
    "            \"scores\":{\n",
    "                \"allScores\": [],\n",
    "                \"statistics\": {\n",
    "                    \"min\": 0,\n",
    "                    \"max\": 0,\n",
    "                    \"median\": 0,\n",
    "                    \"average\": 0,\n",
    "                    \"stDev\": 0,\n",
    "                    \"sum\": 0\n",
    "                },\n",
    "            },\n",
    "            \"values\": indexValues\n",
    "        }\n",
    "        z = z + 1\n",
    "\n",
    "    for keys, values in indexDictionary.items():\n",
    "        strLen = len(keys)\n",
    "\n",
    "        for x in range(strLen-1):       #two letters\n",
    "            strShort = keys[x:x+2].lower()\n",
    "\n",
    "            if x < 1:\n",
    "                values[\"two\"][\"first\"].append([strShort,0])\n",
    "            elif x >= strLen - 2:\n",
    "                values[\"two\"][\"end\"].append([strShort,0])\n",
    "            else:\n",
    "                values[\"two\"][\"mid\"].append([strShort,0])\n",
    "\n",
    "        for x in range(strLen-2):       #three letters\n",
    "            strShort = keys[x:x+3].lower()\n",
    "\n",
    "            if x < 1:\n",
    "                values[\"three\"][\"first\"].append([strShort,0])\n",
    "            elif x >= strLen - 3:\n",
    "                values[\"three\"][\"end\"].append([strShort,0])\n",
    "            else:\n",
    "                values[\"three\"][\"mid\"].append([strShort,0])\n",
    "\n",
    "        if strLen > 8:\n",
    "\n",
    "            for x in range(strLen-3):   #four letters\n",
    "                strShort = keys[x:x+4].lower()\n",
    "\n",
    "                if x < 1:\n",
    "                    values[\"four\"][\"first\"].append([strShort,0])\n",
    "                elif x >= strLen - 4:\n",
    "                    values[\"four\"][\"end\"].append([strShort,0])\n",
    "                else:\n",
    "                    values[\"four\"][\"mid\"].append([strShort,0])\n",
    "\n",
    "    with open(jsonFileName + \".json\", 'w') as fp:\n",
    "        json.dump(indexDictionary, fp)\n"
   ]
  },
  {
   "cell_type": "markdown",
   "metadata": {},
   "source": [
    "# Run Functions"
   ]
  },
  {
   "cell_type": "code",
   "execution_count": 11,
   "metadata": {},
   "outputs": [],
   "source": [
    "#createRefenceFile(file, jsonFileName, indexColumn, valueColumns)\n",
    "#trainAI(trainingSet, jsonFileName, False)"
   ]
  },
  {
   "cell_type": "code",
   "execution_count": 12,
   "metadata": {},
   "outputs": [
    {
     "name": "stdout",
     "output_type": "stream",
     "text": [
      "{ 'four': {'end': [], 'first': [], 'mid': []},\n",
      "  'passed': [],\n",
      "  'scores': { 'allScores': [],\n",
      "              'statistics': { 'average': 0,\n",
      "                              'max': 0,\n",
      "                              'median': 0,\n",
      "                              'min': 0,\n",
      "                              'stDev': 0,\n",
      "                              'sum': 0}},\n",
      "  'three': { 'end': [['era', 0]],\n",
      "             'first': [['eno', 0]],\n",
      "             'mid': [['nog', 0], ['ogg', 0], ['gge', 0], ['ger', 0]]},\n",
      "  'two': { 'end': [['ra', 0]],\n",
      "           'first': [['en', 0]],\n",
      "           'mid': [['no', 0], ['og', 0], ['gg', 0], ['ge', 0], ['er', 0]]}}\n"
     ]
    }
   ],
   "source": [
    "with open(jsonFileName, 'r') as fp:\n",
    "    indexDictionary = json.load(fp)\n",
    "\n",
    "pp = pprint.PrettyPrinter(indent=2, width=80)\n",
    "pp.pprint(indexDictionary[\"Enoggera\"])"
   ]
  },
  {
   "cell_type": "code",
   "execution_count": null,
   "metadata": {},
   "outputs": [],
   "source": []
  }
 ],
 "metadata": {
  "kernelspec": {
   "display_name": "Python 3",
   "language": "python",
   "name": "python3"
  },
  "language_info": {
   "codemirror_mode": {
    "name": "ipython",
    "version": 3
   },
   "file_extension": ".py",
   "mimetype": "text/x-python",
   "name": "python",
   "nbconvert_exporter": "python",
   "pygments_lexer": "ipython3",
   "version": "3.7.1"
  }
 },
 "nbformat": 4,
 "nbformat_minor": 2
}
